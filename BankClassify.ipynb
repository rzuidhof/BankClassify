{
 "cells": [
  {
   "cell_type": "code",
   "execution_count": null,
   "metadata": {},
   "outputs": [
    {
     "name": "stdout",
     "output_type": "stream",
     "text": [
      "\n",
      "--  ---------------------\n",
      " 0  Income\n",
      " 1  Bill - General\n",
      " 2  Bill - Utilities\n",
      " 3  Bill - Communications\n",
      " 4  Travel - General\n",
      " 5  Travel - Car\n",
      " 6  Travel - Petrol\n",
      " 7  Supermarket\n",
      " 8  Cash Out\n",
      " 9  Eating Out\n",
      "10  House\n",
      "11  Books\n",
      "12  Craft\n",
      "13  Charity Shop\n",
      "14  Presents\n",
      "15  Toiletries\n",
      "16  Mortgage\n",
      "17  Paypal\n",
      "18  Unclassified\n",
      "--  ---------------------\n",
      "\n",
      "\n",
      "\n",
      "On: 31/08/2017\t -2.04\n",
      "CARD PAYMENT TO SHELL TOTHILL,2.04 GBP, RATE 1.00/GBP ON 29-08-2013\n",
      "My guess is: Travel - Petrol\n"
     ]
    }
   ],
   "source": [
    "from BankClassify import BankClassify\n",
    "\n",
    "bc = BankClassify()\n",
    "\n",
    "bc.add_data(\"Statement_Example.txt\")"
   ]
  },
  {
   "cell_type": "code",
   "execution_count": null,
   "metadata": {},
   "outputs": [],
   "source": []
  }
 ],
 "metadata": {
  "kernelspec": {
   "display_name": "Python 3",
   "language": "python",
   "name": "python3"
  },
  "language_info": {
   "codemirror_mode": {
    "name": "ipython",
    "version": 3
   },
   "file_extension": ".py",
   "mimetype": "text/x-python",
   "name": "python",
   "nbconvert_exporter": "python",
   "pygments_lexer": "ipython3",
   "version": "3.7.3"
  }
 },
 "nbformat": 4,
 "nbformat_minor": 2
}
